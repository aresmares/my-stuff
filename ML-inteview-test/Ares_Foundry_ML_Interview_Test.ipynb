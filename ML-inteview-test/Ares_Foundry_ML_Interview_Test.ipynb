{
 "cells": [
  {
   "cell_type": "markdown",
   "metadata": {
    "id": "SIdUsbxQ9QL8"
   },
   "source": [
    "<p><img alt=\"Foundry logo\" height=\"38px\" src=\"https://www.foundry.com/favicon.ico\" align=\"left\" hspace=\"10px\" vspace=\"0px\"></p>\n",
    "\n",
    "# Foundry ML Interview Test\n",
    "\n",
    "The objective of this test is to assess your Machine Learning knowledge and see how you would design and train a model.\n",
    "\n",
    "This test is separated into three sections:\n",
    "\n",
    "1. General Machine Learning Q&A\n",
    "2. Design and train a model\n",
    "3. Follow-up questions on your model design\n",
    "\n",
    "This test should take around 1-2 hours to complete."
   ]
  },
  {
   "cell_type": "markdown",
   "metadata": {
    "id": "rAfxJDUX_bZg"
   },
   "source": [
    "# Part I. Machine Learning Q&A"
   ]
  },
  {
   "cell_type": "markdown",
   "metadata": {
    "id": "aPL85df3A1F2"
   },
   "source": [
    "Let's consider the following convolution which takes as input a 256x256x3 image:\n",
    "\n",
    "* Conv: output channels=6, kernel_size=3x3, stride=1, padding=0\n",
    "\n",
    "**Q1. What is the output size of this convolution? Please write it in the form WxHxC.**\n",
    "\n",
    "**Answer:** 254x254x3"
   ]
  },
  {
   "cell_type": "markdown",
   "metadata": {
    "id": "tedtUl4VCDV3"
   },
   "source": [
    "**Q2. How many parameters does the convolution have? Please explain how you've calculated this.**\n",
    "\n",
    "**Answer:** (3x3x3+1)x6 = 168.\n",
    "* Parameters = (kernel_height * kernel_width * input_dimension + bias) * out_channels\n",
    "* bias referes to the number of filers in the layer"
   ]
  },
  {
   "cell_type": "markdown",
   "metadata": {
    "id": "3RriiehiFqua"
   },
   "source": [
    "**Q3. Write down the output after convolving this kernel on this input (stride=1):**"
   ]
  },
  {
   "cell_type": "code",
   "execution_count": null,
   "metadata": {
    "id": "8MJIb4X3GCV9"
   },
   "outputs": [],
   "source": [
    "input =  [[a11, a12, a13],\n",
    "          [a21, a22, a23],\n",
    "          [a31, a32, a33]]\n",
    "\n",
    "kernel = [[k11, k12],\n",
    "          [k21, k22]]\n",
    "\n",
    "# Please write the full expression e.g. x11 = a11*k11 + a12*k12\n",
    "output = [[x11, x12],\n",
    "          [x21, x22]]\n",
    "# x11 = a11*k11 + a12*k12 + a21*k21 + a22*k22\n",
    "# x12 = a12*k11 + a13*k12 + a22*k21 + a23*k22\n",
    "# x21 = a21*k11 + a22*k12 + a31*k21 + a32*k22\n",
    "# x22 = a22*k11 + a23*k12 + a32*k21 + a33*k22"
   ]
  },
  {
   "cell_type": "markdown",
   "metadata": {
    "id": "8E1fxWaT_aP5"
   },
   "source": [
    "# Part II. Design and train your model\n",
    "\n",
    "In this section, we will ask you to design and train a model for the described dataset.\n",
    "\n",
    "Please note that there is no dataset and no actual training. We are looking at your process designing a model and your understanding of what a training loop would look like.\n",
    "\n",
    "Your task will be to design an image-to-image model to do human segmentation. Human segmentation takes an RGB image as input and outputs a mask for the human body. See below two data pair examples of what a dataset for this task would look like:\n",
    "\n",
    "<p><img height=\"200px\" alt=\"DataExamples\" src=\"https://user-images.githubusercontent.com/27013153/162455925-cb621421-cb57-4343-b9a5-f668c25b21e5.png\"/></p>\n",
    "\n",
    "You are free to select the Machine Learning platform of your choice (PyTorch, Tensorflow, Keras). We currently develop models in PyTorch at Foundry."
   ]
  },
  {
   "cell_type": "markdown",
   "metadata": {
    "id": "ZBIiHCrH_9fc"
   },
   "source": [
    "### 1. Design a model\n",
    "\n",
    "In this section, we ask you to design an image-to-image model that could learn human segmentation.\n",
    "\n",
    "In the ML platform of your choice, please write a model that defines (at least):\n",
    "* The model layers\n",
    "* The forward function\n",
    "\n",
    "We recommend building a model that uses CNN layers.\n",
    "\n",
    "Your model should be able to take in an input RGB image (3 channels) and give out a mask image (1 channel)."
   ]
  },
  {
   "cell_type": "code",
   "execution_count": 2,
   "metadata": {
    "id": "xTfaMDx5ANB_"
   },
   "outputs": [],
   "source": [
    "## Design your network\n",
    "import matplotlib.pyplot as plt\n",
    "import torch\n",
    "import torch.nn as nn\n",
    "import torch.optim as optim\n",
    "import torch.nn.functional as F\n",
    "\n",
    "# import torchvision\n",
    "# import tochvision.transforms as transforms\n",
    "\n",
    "class CNN(nn.Module):\n",
    "  def __init__(self, inchannels = 3, num_classes = 1):\n",
    "    super(CNN, self).__init__()\n",
    "    # SAME CONVOLUTION - output after conv2d will remain the same; dimensionalty is not reduced\n",
    "    self.conv1 = nn.Conv2d(in_channels=inchannels, out_channels=6, kernel_size=3, stride=1, padding=1)\n",
    "    self.pool = nn.MaxPool2d(kernel_size=2, stride=2)\n",
    "    self.conv2 = nn.Conv2d(in_channels=6,out_channels=12, kernel_size=3, stride=1, padding=1)\n",
    "\n",
    "    self.fc1 = nn.Linear(in_features=12*16*16, out_features=64*64)\n",
    "    self.sigmoid = nn.Sigmoid()                                                                                                                                                         \n",
    "\n",
    "  def forward(self, x):\n",
    "    # first conv layer\n",
    "    x = self.conv1(x)\n",
    "    x = F.relu(x)\n",
    "    x = self.pool(x)\n",
    "    \n",
    "    # second conv layer\n",
    "    x = self.conv2(x)\n",
    "    x = F.relu(x)\n",
    "    x = self.pool(x)\n",
    "\n",
    "    # reshape tensor\n",
    "    x = x.reshape(x.shape[0], -1)\n",
    "\n",
    "    # fully connected layer\n",
    "    x = self.fc1(x)\n",
    "    x = self.sigmoid(x)\n",
    "    x = x.reshape((4,1,64,64))\n",
    "\n",
    "    return x\n"
   ]
  },
  {
   "cell_type": "markdown",
   "metadata": {
    "id": "1O1SzFrj-6FP"
   },
   "source": [
    "### 2. Write a Training Loop\n",
    "\n",
    "This sections is about writing an example training loop to train the above model using the ML framework of your choice.\n",
    "\n",
    "This training loop will use a random mock dataset, not a real one. This is because we are interested in seeing how you would implement each step necessary to train a model, rather than the final accuracy.\n",
    "\n",
    "Please make sure the code you write can be run directly in this colab without giving errors."
   ]
  },
  {
   "cell_type": "code",
   "execution_count": 3,
   "metadata": {
    "colab": {
     "base_uri": "https://localhost:8080/"
    },
    "id": "vvLNfmDPGyNZ",
    "outputId": "4baaf6ca-c85b-4cf1-fc75-0286943086bb"
   },
   "outputs": [
    {
     "name": "stdout",
     "output_type": "stream",
     "text": [
      "[*] Start Training\n",
      "Step: 0: Epoch 0, Training loss 0.2505902350\n",
      "Step: 100: Epoch 2, Training loss 25.3075560182\n",
      "Step: 200: Epoch 4, Training loss 50.2466325462\n",
      "Step: 300: Epoch 6, Training loss 75.1170169860\n",
      "Step: 400: Epoch 8, Training loss 99.8002192676\n",
      "Step: 500: Epoch 10, Training loss 123.7154983878\n",
      "Step: 600: Epoch 12, Training loss 144.3471462727\n",
      "Step: 700: Epoch 14, Training loss 156.4683915973\n",
      "Step: 800: Epoch 16, Training loss 162.1368213259\n",
      "Step: 900: Epoch 18, Training loss 165.9308636561\n",
      "Step: 1000: Epoch 20, Training loss 168.5085234381\n",
      "Step: 1100: Epoch 22, Training loss 169.4480618136\n",
      "Step: 1200: Epoch 24, Training loss 169.7567538489\n",
      "Step: 1300: Epoch 26, Training loss 169.9671406418\n",
      "Step: 1400: Epoch 28, Training loss 170.1360967534\n",
      "Step: 1500: Epoch 30, Training loss 170.2805783454\n",
      "Step: 1600: Epoch 32, Training loss 170.4073471965\n",
      "Step: 1700: Epoch 34, Training loss 170.5198316856\n",
      "Step: 1800: Epoch 36, Training loss 170.6199739902\n",
      "Step: 1900: Epoch 38, Training loss 170.7092856242\n",
      "Step: 2000: Epoch 40, Training loss 170.7891179055\n",
      "Step: 2100: Epoch 42, Training loss 170.8604733476\n",
      "Step: 2200: Epoch 44, Training loss 170.9245156612\n",
      "Step: 2300: Epoch 46, Training loss 170.9816382782\n",
      "Step: 2400: Epoch 48, Training loss 171.0326706851\n",
      "Step: 2500: Epoch 50, Training loss 171.0779571966\n",
      "Step: 2600: Epoch 52, Training loss 171.1171346867\n",
      "Step: 2700: Epoch 54, Training loss 171.1507139201\n",
      "Step: 2800: Epoch 56, Training loss 171.1778718566\n",
      "Step: 2900: Epoch 58, Training loss 171.1988776085\n",
      "Step: 3000: Epoch 60, Training loss 171.2145320869\n",
      "Step: 3100: Epoch 62, Training loss 171.2263545877\n",
      "Step: 3200: Epoch 64, Training loss 171.2353889909\n",
      "Step: 3300: Epoch 66, Training loss 171.2425045480\n",
      "Step: 3400: Epoch 68, Training loss 171.2485870170\n",
      "Step: 3500: Epoch 70, Training loss 171.2538656154\n",
      "Step: 3600: Epoch 72, Training loss 171.2585500251\n",
      "Step: 3700: Epoch 74, Training loss 171.2627925805\n",
      "Step: 3800: Epoch 76, Training loss 171.2667089997\n",
      "Step: 3900: Epoch 78, Training loss 171.2703435861\n",
      "Step: 4000: Epoch 80, Training loss 171.2737293131\n",
      "Step: 4100: Epoch 82, Training loss 171.2768918713\n",
      "Step: 4200: Epoch 84, Training loss 171.2798522972\n",
      "Step: 4300: Epoch 86, Training loss 171.2826285055\n",
      "Step: 4400: Epoch 88, Training loss 171.2852356276\n",
      "Step: 4500: Epoch 90, Training loss 171.2876867874\n",
      "Step: 4600: Epoch 92, Training loss 171.2899935958\n",
      "Step: 4700: Epoch 94, Training loss 171.2921663247\n",
      "Step: 4800: Epoch 96, Training loss 171.2942141540\n",
      "Step: 4900: Epoch 98, Training loss 171.2961454199\n"
     ]
    }
   ],
   "source": [
    "## Training parameters\n",
    "CHAN_IN = 3\n",
    "CHAN_OUT = 1\n",
    "EPOCHS = 100\n",
    "DATASET_LEN = 50\n",
    "BATCH_SIZE = 4\n",
    "\n",
    "PRINT_LOSS_FREQUENCY = 100\n",
    "\n",
    "## We give a mock train_dataset which is a list of random input and \n",
    "## groundtruth data pairs: [[input1, mask1], [input2, mask2], etc.].\n",
    "import numpy as np\n",
    "inputs = [torch.rand(BATCH_SIZE, CHAN_IN, 64, 64) for x in range(DATASET_LEN)]\n",
    "# masks = [torch.rand(BATCH_SIZE, CHAN_OUT, 64, 64) for x in range(DATASET_LEN)]\n",
    "masks = [torch.round(torch.rand(BATCH_SIZE, CHAN_OUT, 64, 64)) for x in range(DATASET_LEN)]\n",
    "\n",
    "train_dataset = [[inputs[idx], masks[idx]] for idx in range(DATASET_LEN)]\n",
    "\n",
    "## Write a training loop that runs for EPOCHS and print the loss for every PRINT_LOSS_FREQUENCY steps\n",
    "# For example, it could start like this:\n",
    "\n",
    "model = CNN()\n",
    "optimiser = optim.Adam(model.parameters()) # default := lr=0.001\n",
    "loss = nn.MSELoss()\n",
    "\n",
    "steps = 0\n",
    "running_loss=0\n",
    "training_loss = []\n",
    "\n",
    "fmask = None\n",
    "fscore = None\n",
    "\n",
    "print(\"[*] Start Training\")\n",
    "for epoch in range(EPOCHS):\n",
    "    for input, mask in train_dataset:\n",
    "\n",
    "        # forward pass\n",
    "        scores = model(input)\n",
    "\n",
    "        l_value = loss(scores, mask)\n",
    "        training_loss.append(l_value.item())\n",
    "\n",
    "        running_loss += l_value.item()\n",
    "\n",
    "        # back pass\n",
    "        optimiser.zero_grad()\n",
    "        l_value.backward()\n",
    "\n",
    "        # use adam to update parameters\n",
    "        optimiser.step()\n",
    "        \n",
    "        fmask = mask\n",
    "        fscore = scores\n",
    "        \n",
    "        if steps%PRINT_LOSS_FREQUENCY == 0:\n",
    "            train_loss = running_loss/len(train_dataset)\n",
    "            print(\"Step: %d: Epoch %d, Training loss %.10f\" % (steps, epoch, running_loss))   \n",
    "\n",
    "        steps += 1\n",
    "\n"
   ]
  },
  {
   "cell_type": "code",
   "execution_count": 4,
   "metadata": {
    "colab": {
     "base_uri": "https://localhost:8080/",
     "height": 826
    },
    "id": "VRciH17YjDg1",
    "outputId": "aafd3506-e78c-4b31-c570-d43912de14c6"
   },
   "outputs": [
    {
     "data": {
      "text/plain": [
       "<matplotlib.image.AxesImage at 0x7f28bef83590>"
      ]
     },
     "execution_count": 4,
     "metadata": {},
     "output_type": "execute_result"
    },
    {
     "data": {
      "image/png": "[encoded data removed]",
      "text/plain": [
       "<Figure size 432x288 with 1 Axes>"
      ]
     },
     "metadata": {
      "needs_background": "light"
     },
     "output_type": "display_data"
    },
    {
     "data": {
      "image/png": "[encoded data removed]",
      "text/plain": [
       "<Figure size 432x288 with 1 Axes>"
      ]
     },
     "metadata": {
      "needs_background": "light"
     },
     "output_type": "display_data"
    },
    {
     "data": {
      "image/png": "[encoded data removed]",
      "text/plain": [
       "<Figure size 432x288 with 1 Axes>"
      ]
     },
     "metadata": {
      "needs_background": "light"
     },
     "output_type": "display_data"
    }
   ],
   "source": [
    "# plt.imshow(torch.squeeze(fscore[0]).detach().numpy())\n",
    "\n",
    "plt.title(\"Training Loss\"); plt.plot(training_loss)\n",
    "plt.figure(); plt.title(\"Post- Mask\"); plt.imshow( torch.squeeze(fmask[0]).detach().numpy()) \n",
    "plt.figure(); plt.title(\"Post- Score\"); plt.imshow( torch.squeeze(fscore[0]).detach().numpy()) "
   ]
  },
  {
   "cell_type": "markdown",
   "metadata": {
    "id": "vqnB_9C8XNIa"
   },
   "source": [
    "# Part III. Analyse your model\n",
    "\n",
    "In this section, we would like you to explain some of your decisions in designing and training your model.\n",
    "\n",
    "This is all about understanding **why** you picked some options over others."
   ]
  },
  {
   "cell_type": "markdown",
   "metadata": {
    "id": "1gdo90VlAdxH"
   },
   "source": [
    "**Q1. Why did you choose this optimiser?**\n",
    "\n",
    "**Answer:** I made the choice to use ADAM optimiser instead of SGD. As the model is a generative problem as opposed to a classification problem, ADAM provides a separate learning rate for each parameter, allowing the model to better understand how to alter each pixel to reach the target image during training. After testing both, it was clear that ADAM allowed the model to learn differences much quicker than SGD did."
   ]
  },
  {
   "cell_type": "markdown",
   "metadata": {
    "id": "eVFSYVtea6Q-"
   },
   "source": [
    "**Q2. If your model is overfitting, can you describe one or two ways to prevent it?**\n",
    "\n",
    "**Answer:**  Including a regularization function to penalize complex models can reduce complexity of the algorithm and in turn, reduce loss. This can prevent the model from placing importance or rejecting specific features. Additionally, a dropout function can be used to deactivate a percentage of nodes during training for a more thorough search of the search space, reducing senstivity to specific traits. "
   ]
  },
  {
   "cell_type": "markdown",
   "metadata": {
    "id": "YsGDeDnvX9gc"
   },
   "source": [
    "**Q3. Why did you choose this loss function? If this was a classification problem, what loss do you think would be more appropriate?**\n",
    "\n",
    "**Answer:** I chose an Mean Squarred Error loss function aka squarred l2 norm. I made this choice because of its ability to evaluate a pixel wise difference. Therefore, using it, allows the Network to calculate the difference in pixel values from the mask to the test/training image. The Larger the difference, the larger the loss.\n",
    "\n",
    "If it was a classification problem, with multiple classes, I would have chosen a Cross Entropy Loss function with a softmax classification function. If there was a binary classification I would have chosen a Binary Cross Entropy loss function with a sigmoind classification."
   ]
  },
  {
   "cell_type": "markdown",
   "metadata": {
    "id": "xorcCbJQYj8s"
   },
   "source": [
    "**Q4. If you had more time to design this model, describe two things that you would add to improve the accuracy of this model.**\n",
    "\n",
    "**Answer:** A technique used to increase accuracy is shuffling and splitting the dataset. Shuffling the training data can get rid of a potential bias the algorithm may develop, and in turn, increase accuracy. \n",
    "\n",
    "If I had more time and a proper dataset to test with, I would firstly follow the 80/20 rule to split my dataset into trainig set and validation set. This would allow me to get a better gage of the accuracy of my model while also reducing overfitting. With a proper accuracy metric I would then implement K-Fold cross validation to improve my models accuracy. K-Fold cross validation trains the model over multiple iterations of the dataset. It splits the training and validation set differently at every batch and uses the new training set to continue training the same model k times.\n",
    "\n",
    "Additionally, I would use some sort of data augmentation to create variations of data from the dataset, increasing the dataset length with new valid data. These augmentations could be in the form of image rotations, colour variations, etc. Differences which alter current items in the dataset to produce new entries to the dataset. This would provide a larger sample size for the model to train off and better understand what it must be doing, reducing overfitting and increasing accuracy. "
   ]
  },
  {
   "cell_type": "markdown",
   "metadata": {
    "id": "sqtMe1w-YTlC"
   },
   "source": [
    "**Q5. If you needed to speed up the inference time of this model, describe one thing that you might try.**\n",
    "\n",
    "**Answer:** One thing that could be done is to redesign the model in a way that reduces the number of layers and parameters. The larger the number of parameters, the larger the number of calculations that will need to be processed. Thus, finding a model which can complete the same task with a smiliar accuracy can reduce complexity in training and also speed up inference time."
   ]
  },
  {
   "cell_type": "markdown",
   "metadata": {
    "id": "okPUqSdaeY61"
   },
   "source": [
    "# That's it, well done!"
   ]
  }
 ],
 "metadata": {
  "colab": {
   "collapsed_sections": [],
   "name": "Ares - Foundry ML Interview Test.ipynb",
   "provenance": []
  },
  "kernelspec": {
   "display_name": "Python 3 (ipykernel)",
   "language": "python",
   "name": "python3"
  },
  "language_info": {
   "codemirror_mode": {
    "name": "ipython",
    "version": 3
   },
   "file_extension": ".py",
   "mimetype": "text/x-python",
   "name": "python",
   "nbconvert_exporter": "python",
   "pygments_lexer": "ipython3",
   "version": "3.9.7"
  }
 },
 "nbformat": 4,
 "nbformat_minor": 1
}
